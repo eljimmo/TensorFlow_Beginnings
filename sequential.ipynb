{
 "cells": [
  {
   "cell_type": "code",
   "execution_count": 39,
   "id": "6a279e68-6d09-4b76-831e-43db6cd55840",
   "metadata": {},
   "outputs": [],
   "source": [
    "import pandas as pd\n",
    "import numpy as np\n",
    "import matplotlib.pyplot as plt"
   ]
  },
  {
   "cell_type": "code",
   "execution_count": 40,
   "id": "6c85e2c4-4b89-48dd-8b5f-c72024628a87",
   "metadata": {},
   "outputs": [],
   "source": [
    "import pandas_datareader as web\n",
    "import datetime as dt"
   ]
  },
  {
   "cell_type": "code",
   "execution_count": 41,
   "id": "ede301cc-06b7-4567-94e4-af5b7abd8c9b",
   "metadata": {},
   "outputs": [],
   "source": [
    "from sklearn.preprocessing import MinMaxScaler"
   ]
  },
  {
   "cell_type": "code",
   "execution_count": 42,
   "id": "cb1b0e5f-646b-44c2-8ee4-a0cbba9b2efa",
   "metadata": {},
   "outputs": [],
   "source": [
    "from tensorflow.keras.models import Sequential"
   ]
  },
  {
   "cell_type": "code",
   "execution_count": 43,
   "id": "576e1e9f-1ed6-4600-831e-1393ea9f244a",
   "metadata": {},
   "outputs": [],
   "source": [
    "from tensorflow.keras.layers import Dense, Dropout, LSTM"
   ]
  },
  {
   "cell_type": "code",
   "execution_count": 44,
   "id": "5d1e9e79-df83-48ef-8dd0-5156358a340f",
   "metadata": {},
   "outputs": [],
   "source": [
    "company = 'FB'"
   ]
  },
  {
   "cell_type": "code",
   "execution_count": 45,
   "id": "8cbd95b6-0a51-47cc-8d77-b98d9ef0ce5e",
   "metadata": {},
   "outputs": [],
   "source": [
    "start = dt.datetime(2016,1,1)"
   ]
  },
  {
   "cell_type": "code",
   "execution_count": 46,
   "id": "90b30490-72c7-466c-89c2-dd74d6bb548a",
   "metadata": {},
   "outputs": [],
   "source": [
    "end = dt.datetime(2022,1,1)"
   ]
  },
  {
   "cell_type": "code",
   "execution_count": 47,
   "id": "bfd4aa85-d834-4dd3-bf6f-3423f5066e87",
   "metadata": {},
   "outputs": [],
   "source": [
    "data = web.DataReader(company, 'yahoo', start, end)"
   ]
  },
  {
   "cell_type": "code",
   "execution_count": 48,
   "id": "514555b8-c074-430c-9ca7-3026d4f6233b",
   "metadata": {},
   "outputs": [],
   "source": [
    "scaler = MinMaxScaler(feature_range=(0,1))"
   ]
  },
  {
   "cell_type": "code",
   "execution_count": 65,
   "id": "7437a27e-e081-4484-9826-e05a18b23eaf",
   "metadata": {},
   "outputs": [],
   "source": [
    "scaled_data = scaler.fit_transform(data['Close'].values.reshape(-1,1))"
   ]
  },
  {
   "cell_type": "code",
   "execution_count": 50,
   "id": "7fe3a406-8777-4c2a-95d7-3d5ca61c9ade",
   "metadata": {},
   "outputs": [],
   "source": [
    "prediction_days = 60"
   ]
  },
  {
   "cell_type": "code",
   "execution_count": 51,
   "id": "6ecf549c-6924-4dc2-9805-db92d6d1e6f1",
   "metadata": {},
   "outputs": [],
   "source": [
    "x_train = []"
   ]
  },
  {
   "cell_type": "code",
   "execution_count": 52,
   "id": "24fdd901-3757-45e9-bde5-7073ebb85c14",
   "metadata": {},
   "outputs": [],
   "source": [
    "y_train = []"
   ]
  },
  {
   "cell_type": "code",
   "execution_count": 53,
   "id": "4312dbc7-dbfa-44c6-9024-57532203227d",
   "metadata": {},
   "outputs": [],
   "source": [
    "for x in range(prediction_days, len(scaled_data)):\n",
    "    x_train.append(scaled_data[x-prediction_days:x, 0])\n",
    "    y_train.append(scaled_data[x, 0])"
   ]
  },
  {
   "cell_type": "code",
   "execution_count": 54,
   "id": "b9300bb6-9b3e-4850-9d37-57e92cc32034",
   "metadata": {},
   "outputs": [],
   "source": [
    "x_train, y_train = np.array(x_train), np.array(y_train)"
   ]
  },
  {
   "cell_type": "code",
   "execution_count": 56,
   "id": "9b50c612-3ca1-4166-b596-86bcade99333",
   "metadata": {},
   "outputs": [],
   "source": [
    "x_train = np.reshape(x_train, (x_train.shape[0], x_train.shape[1], 1))"
   ]
  },
  {
   "cell_type": "code",
   "execution_count": 57,
   "id": "04e72cea-e09e-4bab-90bf-3363850269ff",
   "metadata": {},
   "outputs": [],
   "source": [
    "model = Sequential()"
   ]
  },
  {
   "cell_type": "code",
   "execution_count": 58,
   "id": "0a8d9e88-ef83-495e-b9f6-579a8bf28288",
   "metadata": {},
   "outputs": [],
   "source": [
    "model.add(LSTM(units=50, return_sequences=True, input_shape=(x_train.shape[1], 1)))"
   ]
  },
  {
   "cell_type": "code",
   "execution_count": 59,
   "id": "424a3b55-27be-4acb-a1c9-933afff5dbb5",
   "metadata": {},
   "outputs": [],
   "source": [
    "model.add(Dropout(0.2))"
   ]
  },
  {
   "cell_type": "code",
   "execution_count": 60,
   "id": "704378ae-7a41-4925-8f4d-af770c46010b",
   "metadata": {},
   "outputs": [],
   "source": [
    "model.add(LSTM(units=50, return_sequences=True))"
   ]
  },
  {
   "cell_type": "code",
   "execution_count": 61,
   "id": "d0eff13e-3bc6-49db-a460-0fa7f3096959",
   "metadata": {},
   "outputs": [],
   "source": [
    "model.add(Dropout(0.2))"
   ]
  },
  {
   "cell_type": "code",
   "execution_count": 64,
   "id": "69ba0e8d-5c38-4fcc-8862-dca2f4f7aed4",
   "metadata": {},
   "outputs": [],
   "source": [
    "model.add(LSTM(units=50))"
   ]
  },
  {
   "cell_type": "code",
   "execution_count": 63,
   "id": "18541b6c-661d-44ee-8f40-30c81d212f3f",
   "metadata": {},
   "outputs": [],
   "source": [
    "model.add(Dropout(0.2))"
   ]
  },
  {
   "cell_type": "code",
   "execution_count": 66,
   "id": "91d29c90-ac27-47a0-9b2e-649eaa2e9433",
   "metadata": {},
   "outputs": [],
   "source": [
    "model.add(Dense(units=1))"
   ]
  },
  {
   "cell_type": "code",
   "execution_count": 69,
   "id": "da97611f-5299-47db-999d-3fcf57aad285",
   "metadata": {},
   "outputs": [],
   "source": [
    "model.compile(optimizer='adam', loss='mean_squared_error')"
   ]
  },
  {
   "cell_type": "code",
   "execution_count": 70,
   "id": "e239740e-b5d3-488c-b5b7-0bab8e13b4ed",
   "metadata": {},
   "outputs": [
    {
     "name": "stdout",
     "output_type": "stream",
     "text": [
      "Epoch 1/25\n",
      "6/6 [==============================] - 3s 30ms/step - loss: 0.0868\n",
      "Epoch 2/25\n",
      "6/6 [==============================] - 0s 30ms/step - loss: 0.0285\n",
      "Epoch 3/25\n",
      "6/6 [==============================] - 0s 30ms/step - loss: 0.0199\n",
      "Epoch 4/25\n",
      "6/6 [==============================] - 0s 30ms/step - loss: 0.0172\n",
      "Epoch 5/25\n",
      "6/6 [==============================] - 0s 29ms/step - loss: 0.0169\n",
      "Epoch 6/25\n",
      "6/6 [==============================] - 0s 30ms/step - loss: 0.0131\n",
      "Epoch 7/25\n",
      "6/6 [==============================] - 0s 31ms/step - loss: 0.0115\n",
      "Epoch 8/25\n",
      "6/6 [==============================] - 0s 30ms/step - loss: 0.0111\n",
      "Epoch 9/25\n",
      "6/6 [==============================] - 0s 30ms/step - loss: 0.0106\n",
      "Epoch 10/25\n",
      "6/6 [==============================] - 0s 30ms/step - loss: 0.0094\n",
      "Epoch 11/25\n",
      "6/6 [==============================] - 0s 29ms/step - loss: 0.0099\n",
      "Epoch 12/25\n",
      "6/6 [==============================] - 0s 29ms/step - loss: 0.0099\n",
      "Epoch 13/25\n",
      "6/6 [==============================] - 0s 30ms/step - loss: 0.0096\n",
      "Epoch 14/25\n",
      "6/6 [==============================] - 0s 30ms/step - loss: 0.0083\n",
      "Epoch 15/25\n",
      "6/6 [==============================] - 0s 29ms/step - loss: 0.0088\n",
      "Epoch 16/25\n",
      "6/6 [==============================] - 0s 29ms/step - loss: 0.0073\n",
      "Epoch 17/25\n",
      "6/6 [==============================] - 0s 29ms/step - loss: 0.0083\n",
      "Epoch 18/25\n",
      "6/6 [==============================] - 0s 29ms/step - loss: 0.0081\n",
      "Epoch 19/25\n",
      "6/6 [==============================] - 0s 29ms/step - loss: 0.0074\n",
      "Epoch 20/25\n",
      "6/6 [==============================] - 0s 29ms/step - loss: 0.0073\n",
      "Epoch 21/25\n",
      "6/6 [==============================] - 0s 29ms/step - loss: 0.0078\n",
      "Epoch 22/25\n",
      "6/6 [==============================] - 0s 30ms/step - loss: 0.0078\n",
      "Epoch 23/25\n",
      "6/6 [==============================] - 0s 30ms/step - loss: 0.0077\n",
      "Epoch 24/25\n",
      "6/6 [==============================] - 0s 30ms/step - loss: 0.0082\n",
      "Epoch 25/25\n",
      "6/6 [==============================] - 0s 30ms/step - loss: 0.0081\n"
     ]
    },
    {
     "data": {
      "text/plain": [
       "<keras.callbacks.History at 0x2969173c4f0>"
      ]
     },
     "execution_count": 70,
     "metadata": {},
     "output_type": "execute_result"
    }
   ],
   "source": [
    "model.fit(x_train, y_train, epochs=25, batch_size=32)"
   ]
  },
  {
   "cell_type": "code",
   "execution_count": 71,
   "id": "058ee280-4f35-44f3-9c16-b3d3f75ec752",
   "metadata": {},
   "outputs": [],
   "source": [
    "test_start = dt.datetime(2022,1,1)"
   ]
  },
  {
   "cell_type": "code",
   "execution_count": 72,
   "id": "3381d264-1c71-4952-a5a4-519f14a6ff4f",
   "metadata": {},
   "outputs": [],
   "source": [
    "test_end = dt.datetime.now()"
   ]
  },
  {
   "cell_type": "code",
   "execution_count": 74,
   "id": "265fb7d1-a899-413a-8f65-af8ffa7eed9c",
   "metadata": {},
   "outputs": [],
   "source": [
    "test_data = web.DataReader(company, 'yahoo', test_start, test_end)"
   ]
  },
  {
   "cell_type": "code",
   "execution_count": 75,
   "id": "02f9ed86-fda8-4e7a-9983-9378e1d82201",
   "metadata": {},
   "outputs": [],
   "source": [
    "actual_prices = test_data['Close'].values"
   ]
  },
  {
   "cell_type": "code",
   "execution_count": 76,
   "id": "8f5ab73a-9594-4f6a-8a62-bf07affbe3de",
   "metadata": {},
   "outputs": [],
   "source": [
    "total_dataset = pd.concat((data['Close'], test_data['Close']), axis=0)"
   ]
  },
  {
   "cell_type": "code",
   "execution_count": 77,
   "id": "00e6bc90-faba-4def-88f5-e4d090a77515",
   "metadata": {},
   "outputs": [],
   "source": [
    "model_inputs = total_dataset[len(total_dataset) - len(test_data) - prediction_days:].values"
   ]
  },
  {
   "cell_type": "markdown",
   "id": "dec1d367-2d50-4ae8-8a8f-c9ef720caf03",
   "metadata": {},
   "source": [
    "model_inputs = model_inputs.reshape(-1,1)"
   ]
  },
  {
   "cell_type": "code",
   "execution_count": 78,
   "id": "707ff67d-0a56-4e8f-93b1-32bc7e0e20ba",
   "metadata": {},
   "outputs": [],
   "source": [
    "model_inputs = model_inputs.reshape(-1,1)"
   ]
  },
  {
   "cell_type": "code",
   "execution_count": 79,
   "id": "67866e92-d329-4729-ad31-6fe15ff72b92",
   "metadata": {},
   "outputs": [],
   "source": [
    "model_inputs = scaler.transform(model_inputs)"
   ]
  },
  {
   "cell_type": "code",
   "execution_count": null,
   "id": "0f554df1-2631-4dc5-b162-330dc9e44dc5",
   "metadata": {},
   "outputs": [],
   "source": []
  },
  {
   "cell_type": "code",
   "execution_count": null,
   "id": "0fe28891-b860-4e2e-9a85-7e4ea260f79e",
   "metadata": {},
   "outputs": [],
   "source": []
  },
  {
   "cell_type": "code",
   "execution_count": 80,
   "id": "288cb5c2-73fb-415d-bf30-b9fb2b9a8e09",
   "metadata": {},
   "outputs": [],
   "source": [
    "x_test = []"
   ]
  },
  {
   "cell_type": "code",
   "execution_count": 81,
   "id": "c132f44d-78c3-464c-9fcf-ff6c2af0c566",
   "metadata": {},
   "outputs": [],
   "source": [
    "for x in range(prediction_days, len(model_inputs)):\n",
    "    x_test.append(model_inputs[x-prediction_days:x, 0])"
   ]
  },
  {
   "cell_type": "code",
   "execution_count": 82,
   "id": "3871d1c2-66d1-4c45-805b-927d0e00acc3",
   "metadata": {},
   "outputs": [],
   "source": [
    "x_test = np.array(x_test)"
   ]
  },
  {
   "cell_type": "code",
   "execution_count": 84,
   "id": "5ad44a72-1538-4767-b372-9a489e2a5250",
   "metadata": {},
   "outputs": [],
   "source": [
    "x_test = np.reshape(x_test, (x_test.shape[0], x_test.shape[1], 1))"
   ]
  },
  {
   "cell_type": "code",
   "execution_count": 85,
   "id": "05b8c6c8-4d00-4ffb-9e1b-da9babd117a3",
   "metadata": {},
   "outputs": [
    {
     "name": "stdout",
     "output_type": "stream",
     "text": [
      "8/8 [==============================] - 1s 12ms/step\n"
     ]
    }
   ],
   "source": [
    "predicted_prices = model.predict(x_test)"
   ]
  },
  {
   "cell_type": "code",
   "execution_count": 86,
   "id": "9ad2c414-0aff-47d9-bbcc-0045ebe9ecc9",
   "metadata": {},
   "outputs": [],
   "source": [
    "predicted_prices = scaler.inverse_transform(predicted_prices)"
   ]
  },
  {
   "cell_type": "code",
   "execution_count": 90,
   "id": "aed92566-a881-4872-916d-c80fd9745fa4",
   "metadata": {},
   "outputs": [
    {
     "data": {
      "text/plain": [
       "[<matplotlib.lines.Line2D at 0x296a1f60b20>]"
      ]
     },
     "execution_count": 90,
     "metadata": {},
     "output_type": "execute_result"
    },
    {
     "data": {
      "image/png": "[encoded data removed]",
      "text/plain": [
       "<Figure size 432x288 with 1 Axes>"
      ]
     },
     "metadata": {
      "needs_background": "light"
     },
     "output_type": "display_data"
    }
   ],
   "source": [
    "plt.plot(actual_prices, color=\"blue\", label=f\"Actual {company} price\")"
   ]
  },
  {
   "cell_type": "code",
   "execution_count": 91,
   "id": "d1b0e345-0bde-44bd-b161-45d1abfadd25",
   "metadata": {},
   "outputs": [
    {
     "data": {
      "text/plain": [
       "[<matplotlib.lines.Line2D at 0x296a1fa2890>]"
      ]
     },
     "execution_count": 91,
     "metadata": {},
     "output_type": "execute_result"
    },
    {
     "data": {
      "image/png": "[encoded data removed]",
      "text/plain": [
       "<Figure size 432x288 with 1 Axes>"
      ]
     },
     "metadata": {
      "needs_background": "light"
     },
     "output_type": "display_data"
    }
   ],
   "source": [
    "plt.plot(predicted_prices, color=\"green\", label=f\"predicted {company} prices\")"
   ]
  },
  {
   "cell_type": "code",
   "execution_count": 92,
   "id": "aac68248-2590-4e4d-98b6-2142da403033",
   "metadata": {},
   "outputs": [
    {
     "data": {
      "text/plain": [
       "Text(0.5, 1.0, 'FB Share Price')"
      ]
     },
     "execution_count": 92,
     "metadata": {},
     "output_type": "execute_result"
    },
    {
     "data": {
      "image/png": "[encoded data removed]",
      "text/plain": [
       "<Figure size 432x288 with 1 Axes>"
      ]
     },
     "metadata": {
      "needs_background": "light"
     },
     "output_type": "display_data"
    }
   ],
   "source": [
    "plt.title(f\"{company} Share Price\")"
   ]
  },
  {
   "cell_type": "code",
   "execution_count": 93,
   "id": "def1c25d-cae9-4e11-be9e-926def65ca61",
   "metadata": {},
   "outputs": [
    {
     "data": {
      "text/plain": [
       "Text(0.5, 0, 'Time')"
      ]
     },
     "execution_count": 93,
     "metadata": {},
     "output_type": "execute_result"
    },
    {
     "data": {
      "image/png": "[encoded data removed]",
      "text/plain": [
       "<Figure size 432x288 with 1 Axes>"
      ]
     },
     "metadata": {
      "needs_background": "light"
     },
     "output_type": "display_data"
    }
   ],
   "source": [
    "plt.xlabel('Time')"
   ]
  },
  {
   "cell_type": "code",
   "execution_count": 94,
   "id": "0c6d14b9-bd28-4452-a663-2053e8906c4a",
   "metadata": {},
   "outputs": [
    {
     "data": {
      "text/plain": [
       "Text(0, 0.5, 'FB Share Price')"
      ]
     },
     "execution_count": 94,
     "metadata": {},
     "output_type": "execute_result"
    },
    {
     "data": {
      "image/png": "[encoded data removed]",
      "text/plain": [
       "<Figure size 432x288 with 1 Axes>"
      ]
     },
     "metadata": {
      "needs_background": "light"
     },
     "output_type": "display_data"
    }
   ],
   "source": [
    "plt.ylabel(f'{company} Share Price')"
   ]
  },
  {
   "cell_type": "code",
   "execution_count": 95,
   "id": "8418c7af-c387-43ad-b614-c0ff6464ac15",
   "metadata": {},
   "outputs": [
    {
     "name": "stderr",
     "output_type": "stream",
     "text": [
      "No artists with labels found to put in legend.  Note that artists whose label start with an underscore are ignored when legend() is called with no argument.\n"
     ]
    },
    {
     "data": {
      "text/plain": [
       "<matplotlib.legend.Legend at 0x296a20efb80>"
      ]
     },
     "execution_count": 95,
     "metadata": {},
     "output_type": "execute_result"
    },
    {
     "data": {
      "image/png": "[encoded data removed]",
      "text/plain": [
       "<Figure size 432x288 with 1 Axes>"
      ]
     },
     "metadata": {
      "needs_background": "light"
     },
     "output_type": "display_data"
    }
   ],
   "source": [
    "plt.legend()"
   ]
  },
  {
   "cell_type": "code",
   "execution_count": 96,
   "id": "178007cb-1b21-46bb-9bda-51459a4c5ac8",
   "metadata": {},
   "outputs": [],
   "source": [
    "plt.show()"
   ]
  },
  {
   "cell_type": "code",
   "execution_count": 98,
   "id": "f50a1166-f662-46f3-8602-715686585995",
   "metadata": {},
   "outputs": [],
   "source": [
    "real_data= [model_inputs[len(model_inputs) + 1 - prediction_days:len(model_inputs+1), 0]]"
   ]
  },
  {
   "cell_type": "code",
   "execution_count": 99,
   "id": "49049dd2-cdef-4fb9-b32b-4f11b3df6228",
   "metadata": {},
   "outputs": [],
   "source": [
    "real_data = np.array(real_data)"
   ]
  },
  {
   "cell_type": "code",
   "execution_count": 100,
   "id": "8849a177-eb73-4573-b14e-d04f3217a71d",
   "metadata": {},
   "outputs": [],
   "source": [
    "real_data = np.reshape(real_data, (real_data.shape[0], real_data.shape[1], 1))"
   ]
  },
  {
   "cell_type": "code",
   "execution_count": 101,
   "id": "2b76c335-89a3-4db8-8d22-0a6cc3da99bb",
   "metadata": {},
   "outputs": [
    {
     "name": "stdout",
     "output_type": "stream",
     "text": [
      "1/1 [==============================] - 1s 822ms/step\n"
     ]
    }
   ],
   "source": [
    "prediction = model.predict(real_data)"
   ]
  },
  {
   "cell_type": "code",
   "execution_count": 102,
   "id": "ca28f7ad-bebc-4611-b145-e010df14337b",
   "metadata": {},
   "outputs": [],
   "source": [
    "prediction = scaler.inverse_transform(prediction)"
   ]
  },
  {
   "cell_type": "code",
   "execution_count": 103,
   "id": "cf090ca6-c022-4c29-abb8-b5b8cf0b73dc",
   "metadata": {},
   "outputs": [
    {
     "name": "stdout",
     "output_type": "stream",
     "text": [
      "Prediction: [[165.94882]]\n"
     ]
    }
   ],
   "source": [
    "print(f\"Prediction: {prediction}\")"
   ]
  },
  {
   "cell_type": "code",
   "execution_count": null,
   "id": "ba2da594-4c3c-4c8a-a02d-54089bca6828",
   "metadata": {},
   "outputs": [],
   "source": []
  }
 ],
 "metadata": {
  "kernelspec": {
   "display_name": "Python 3 (ipykernel)",
   "language": "python",
   "name": "python3"
  },
  "language_info": {
   "codemirror_mode": {
    "name": "ipython",
    "version": 3
   },
   "file_extension": ".py",
   "mimetype": "text/x-python",
   "name": "python",
   "nbconvert_exporter": "python",
   "pygments_lexer": "ipython3",
   "version": "3.10.2"
  }
 },
 "nbformat": 4,
 "nbformat_minor": 5
}
